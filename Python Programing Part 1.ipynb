{
 "cells": [
  {
   "cell_type": "code",
   "execution_count": 5,
   "metadata": {},
   "outputs": [
    {
     "name": "stdout",
     "output_type": "stream",
     "text": [
      "hello\n"
     ]
    }
   ],
   "source": [
    "print (\"hello\")"
   ]
  },
  {
   "cell_type": "code",
   "execution_count": 1,
   "metadata": {},
   "outputs": [
    {
     "name": "stdout",
     "output_type": "stream",
     "text": [
      "Duplicate elements: [5, 1]\n"
     ]
    }
   ],
   "source": [
    "# Given list\n",
    "numbers = [1, 5, 6, 5, 1, 2, 3]\n",
    "\n",
    "# Create an empty list to store duplicates\n",
    "duplicates = []\n",
    "\n",
    "# Create a set to track seen elements\n",
    "seen = set()\n",
    "\n",
    "# Loop through the list\n",
    "for num in numbers:\n",
    "    if num in seen and num not in duplicates:\n",
    "        duplicates.append(num)\n",
    "    seen.add(num)\n",
    "\n",
    "# Print the list of duplicate elements\n",
    "print(\"Duplicate elements:\", duplicates)\n"
   ]
  },
  {
   "cell_type": "code",
   "execution_count": 7,
   "metadata": {},
   "outputs": [
    {
     "name": "stdout",
     "output_type": "stream",
     "text": [
      "List of duplicate elements: [1, 5]\n"
     ]
    }
   ],
   "source": [
    "# Original list\n",
    "original_list = [1, 5, 6, 5, 1, 2, 3]\n",
    "\n",
    "# Initialize an empty list to store duplicates\n",
    "duplicates = []\n",
    "\n",
    "# Iterate through the original list\n",
    "for item in original_list:\n",
    "    if original_list.count(item) > 1 and item not in duplicates:\n",
    "        duplicates.append(item)\n",
    "\n",
    "# Print the list of duplicates\n",
    "print(\"List of duplicate elements:\", duplicates)"
   ]
  },
  {
   "cell_type": "code",
   "execution_count": null,
   "metadata": {},
   "outputs": [
    {
     "name": "stdout",
     "output_type": "stream",
     "text": [
      "India is a member of SAARC\n"
     ]
    },
    {
     "ename": "",
     "evalue": "",
     "output_type": "error",
     "traceback": [
      "\u001b[1;31mThe Kernel crashed while executing code in the current cell or a previous cell. \n",
      "\u001b[1;31mPlease review the code in the cell(s) to identify a possible cause of the failure. \n",
      "\u001b[1;31mClick <a href='https://aka.ms/vscodeJupyterKernelCrash'>here</a> for more info. \n",
      "\u001b[1;31mView Jupyter <a href='command:jupyter.viewOutput'>log</a> for further details."
     ]
    }
   ],
   "source": [
    "# List of countries in SAARC\n",
    "saarc=[\"Afghanistan\", \"Bangladesh\", \"Bhutan\", \"India\", \"Maldives\", \"Nepal\", \"Pakistan\", \"Sri Lanka\"]\n",
    "country=input(\"Enter the name of the country: \")\n",
    "if country in saarc:\n",
    "    print(country, \"is a member of SAARC\")\n",
    "else:\n",
    "    print(country, \"is not a member of SAARC\")\n"
   ]
  },
  {
   "cell_type": "code",
   "execution_count": 5,
   "metadata": {},
   "outputs": [
    {
     "name": "stdout",
     "output_type": "stream",
     "text": [
      "The largest number is 30\n"
     ]
    }
   ],
   "source": [
    "# Given list\n",
    "n1 = 20\n",
    "n2 = 30\n",
    "n3 = 25\n",
    "if (n1 >= n2) and (n1 >= n3):\n",
    "    largest = n1\n",
    "elif (n2 >= n1) and (n2 >= n3):\n",
    "    largest = n2\n",
    "else:\n",
    "    largest = n3\n",
    "print(\"The largest number is\", largest)\n"
   ]
  },
  {
   "cell_type": "code",
   "execution_count": 4,
   "metadata": {},
   "outputs": [
    {
     "name": "stdout",
     "output_type": "stream",
     "text": [
      "1947 is not a leap year\n"
     ]
    }
   ],
   "source": [
    "year = int(input(\"Enter a year: \"))\n",
    "\n",
    "if year % 4 == 0:\n",
    "    if year % 100 == 0:\n",
    "        if year % 400 == 0:\n",
    "            print (year, \"is a leap year\")\n",
    "        else:\n",
    "            print (year, \"is not a leap year\")\n",
    "    else:\n",
    "        print (year, \"is a leap year\")\n",
    "else:\n",
    "    print (year, \"is not a leap year\")"
   ]
  },
  {
   "cell_type": "code",
   "execution_count": 1,
   "metadata": {},
   "outputs": [],
   "source": [
    "import turtle\n",
    "turtle.forward(100)\n",
    "turtle.exitonclick()"
   ]
  },
  {
   "cell_type": "code",
   "execution_count": 1,
   "metadata": {},
   "outputs": [],
   "source": [
    "import turtle\n",
    "turtle.forward(100)\n",
    "turtle.right(90)\n",
    "turtle.forward(100)\n",
    "turtle.right(90)\n",
    "turtle.forward(100)\n",
    "turtle.right(90)\n",
    "turtle.forward(100)\n",
    "turtle.exitonclick()"
   ]
  },
  {
   "cell_type": "code",
   "execution_count": 3,
   "metadata": {},
   "outputs": [
    {
     "name": "stdout",
     "output_type": "stream",
     "text": [
      "I want to be a spatial data analyst!\n",
      "I want to be a spatial data analyst!\n",
      "I want to be a spatial data analyst!\n",
      "I want to be a spatial data analyst!\n",
      "I want to be a spatial data analyst!\n"
     ]
    }
   ],
   "source": [
    "for i in range(5):\n",
    "    print(\"I want to be a spatial data analyst!\")"
   ]
  },
  {
   "cell_type": "code",
   "execution_count": 4,
   "metadata": {},
   "outputs": [
    {
     "name": "stdout",
     "output_type": "stream",
     "text": [
      "0\n",
      "1\n",
      "2\n",
      "3\n",
      "4\n"
     ]
    }
   ],
   "source": [
    "for i in range(5):\n",
    "    print(i)"
   ]
  },
  {
   "cell_type": "code",
   "execution_count": 7,
   "metadata": {},
   "outputs": [],
   "source": [
    "import turtle\n",
    "turtle.shape(\"turtle\")\n",
    "turtle.forward(100)\n",
    "turtle.left(90)\n",
    "turtle.forward(100)\n",
    "turtle.left(90)\n",
    "turtle.forward(100)\n",
    "turtle.left(90)\n",
    "turtle.forward(100)\n",
    "turtle.left(90)\n",
    "turtle.exitonclick()"
   ]
  },
  {
   "cell_type": "code",
   "execution_count": 9,
   "metadata": {},
   "outputs": [],
   "source": [
    "import turtle\n",
    "turtle.shape(\"turtle\")\n",
    "for i in range(4):\n",
    "    turtle.forward(100)\n",
    "    turtle.left(90)\n",
    "turtle.exitonclick()"
   ]
  },
  {
   "cell_type": "code",
   "execution_count": 18,
   "metadata": {},
   "outputs": [
    {
     "name": "stdout",
     "output_type": "stream",
     "text": [
      "50\n"
     ]
    }
   ],
   "source": [
    "result = 0\n",
    "for i in range(50):\n",
    "    result = result + 1\n",
    "print(result)"
   ]
  },
  {
   "cell_type": "code",
   "execution_count": 19,
   "metadata": {},
   "outputs": [
    {
     "name": "stdout",
     "output_type": "stream",
     "text": [
      "1275\n"
     ]
    }
   ],
   "source": [
    "result = 0\n",
    "for i in range(51):\n",
    "    result += i\n",
    "print(result)"
   ]
  },
  {
   "cell_type": "code",
   "execution_count": 21,
   "metadata": {},
   "outputs": [
    {
     "name": "stdout",
     "output_type": "stream",
     "text": [
      "1275\n"
     ]
    }
   ],
   "source": [
    "result = 0\n",
    "for num in range(51):\n",
    "    result = result + num\n",
    "print(result)"
   ]
  },
  {
   "cell_type": "code",
   "execution_count": 22,
   "metadata": {},
   "outputs": [
    {
     "name": "stdout",
     "output_type": "stream",
     "text": [
      "1275\n"
     ]
    }
   ],
   "source": [
    "result = 0\n",
    "for num in range(51):\n",
    "    result += num\n",
    "print(result)"
   ]
  },
  {
   "cell_type": "code",
   "execution_count": 26,
   "metadata": {},
   "outputs": [
    {
     "name": "stdout",
     "output_type": "stream",
     "text": [
      "0\n",
      "5\n",
      "10\n",
      "15\n",
      "20\n"
     ]
    }
   ],
   "source": [
    "for i in range(0, 21, 5):\n",
    "    print(i)"
   ]
  },
  {
   "cell_type": "code",
   "execution_count": 27,
   "metadata": {},
   "outputs": [
    {
     "name": "stdout",
     "output_type": "stream",
     "text": [
      "11\n"
     ]
    }
   ],
   "source": [
    "numbers = [6, 5, 3, 8, 4, 2, 5, 4, 11]\n",
    "max_n = numbers[0]\n",
    "for num in numbers:\n",
    "    if num > max_n:\n",
    "        max_n = num\n",
    "print(max_n)"
   ]
  },
  {
   "cell_type": "code",
   "execution_count": 34,
   "metadata": {},
   "outputs": [
    {
     "name": "stdout",
     "output_type": "stream",
     "text": [
      "0\n",
      "5\n",
      "10\n",
      "15\n",
      "20\n",
      "25\n",
      "30\n",
      "35\n",
      "40\n",
      "45\n",
      "50\n",
      "Sum: 275\n"
     ]
    }
   ],
   "source": [
    "result = 0\n",
    "for num in range(51):\n",
    "    if num % 5 == 0:\n",
    "        print(num)\n",
    "        result += num\n",
    "print(\"Sum:\", result)"
   ]
  },
  {
   "cell_type": "code",
   "execution_count": 1,
   "metadata": {},
   "outputs": [
    {
     "name": "stdout",
     "output_type": "stream",
     "text": [
      "0\n",
      "5\n",
      "10\n",
      "15\n",
      "20\n",
      "25\n",
      "30\n",
      "35\n",
      "40\n",
      "45\n",
      "50\n",
      "Sum: 275\n"
     ]
    }
   ],
   "source": [
    "result = 0\n",
    "for num in range(0, 51, 5):\n",
    "    if num % 5 == 0:\n",
    "        print(num)\n",
    "        result += num\n",
    "print(\"Sum:\", result)"
   ]
  },
  {
   "cell_type": "code",
   "execution_count": null,
   "metadata": {},
   "outputs": [],
   "source": [
    "import turtle\n",
    "turtle.speed(1)\n",
    "for i in range(20):\n",
    "    turtle.forward(10)\n",
    "    tuple.penup()\n",
    "    tuple.forward(3)\n",
    "    tuple.pendown()\n",
    "turtle.exitonclick()"
   ]
  },
  {
   "cell_type": "code",
   "execution_count": 2,
   "metadata": {},
   "outputs": [],
   "source": [
    "import turtle\n",
    "turtle.shape(\"turtle\")\n",
    "turtle.speed(1)\n",
    "\n",
    "for side_length in range(50, 100, 10):\n",
    "    for i in range(4):\n",
    "        turtle.forward(side_length)\n",
    "        turtle.left(90)\n",
    "\n",
    "turtle.exitonclick()"
   ]
  },
  {
   "cell_type": "code",
   "execution_count": null,
   "metadata": {},
   "outputs": [
    {
     "name": "stdout",
     "output_type": "stream",
     "text": [
      "Afghanistan is a member of SAARC\n",
      "Bangladesh is a member of SAARC\n",
      "Bhutan is a member of SAARC\n",
      "India is a member of SAARC\n",
      "Maldives is a member of SAARC\n",
      "Nepal is a member of SAARC\n",
      "Pakistan is a member of SAARC\n",
      "Sri Lanka is a member of SAARC\n"
     ]
    }
   ],
   "source": [
    "saarc = [\"Afghanistan\", \"Bangladesh\", \"Bhutan\", \"India\", \"Maldives\", \"Nepal\", \"Pakistan\", \"Sri Lanka\"]\n",
    "for country in saarc:\n",
    "    print(country, \"is a member of SAARC\")"
   ]
  },
  {
   "cell_type": "code",
   "execution_count": 5,
   "metadata": {},
   "outputs": [
    {
     "name": "stdout",
     "output_type": "stream",
     "text": [
      "[0, 1, 2, 3, 4, 5, 6, 7, 8, 9, 10]\n"
     ]
    }
   ],
   "source": [
    "li = list (range(11))\n",
    "print(li)"
   ]
  },
  {
   "cell_type": "code",
   "execution_count": 12,
   "metadata": {},
   "outputs": [
    {
     "name": "stdout",
     "output_type": "stream",
     "text": [
      "[1, 3, 5, 7, 9, 11, 13, 15, 17, 19]\n"
     ]
    }
   ],
   "source": [
    "li = list(range(1, 21, 2))\n",
    "print(li)"
   ]
  },
  {
   "cell_type": "code",
   "execution_count": 50,
   "metadata": {},
   "outputs": [
    {
     "ename": "TypeError",
     "evalue": "'list' object is not callable",
     "output_type": "error",
     "traceback": [
      "\u001b[1;31m---------------------------------------------------------------------------\u001b[0m",
      "\u001b[1;31mTypeError\u001b[0m                                 Traceback (most recent call last)",
      "Cell \u001b[1;32mIn[50], line 2\u001b[0m\n\u001b[0;32m      1\u001b[0m result \u001b[38;5;241m=\u001b[39m \u001b[38;5;241m0\u001b[39m\n\u001b[1;32m----> 2\u001b[0m li \u001b[38;5;241m=\u001b[39m \u001b[38;5;28;43mlist\u001b[39;49m\u001b[43m(\u001b[49m\u001b[38;5;28;43mrange\u001b[39;49m\u001b[43m(\u001b[49m\u001b[38;5;241;43m1\u001b[39;49m\u001b[43m,\u001b[49m\u001b[43m \u001b[49m\u001b[38;5;241;43m21\u001b[39;49m\u001b[43m,\u001b[49m\u001b[43m \u001b[49m\u001b[38;5;241;43m2\u001b[39;49m\u001b[43m)\u001b[49m\u001b[43m)\u001b[49m\n\u001b[0;32m      3\u001b[0m \u001b[38;5;28;01mfor\u001b[39;00m i \u001b[38;5;129;01min\u001b[39;00m li:\n\u001b[0;32m      4\u001b[0m     result \u001b[38;5;241m+\u001b[39m\u001b[38;5;241m=\u001b[39m i\n",
      "\u001b[1;31mTypeError\u001b[0m: 'list' object is not callable"
     ]
    }
   ],
   "source": [
    "result = 0\n",
    "li = list(range(1, 21, 2))\n",
    "for i in li:\n",
    "    result += i\n",
    "print(result)"
   ]
  },
  {
   "cell_type": "code",
   "execution_count": 16,
   "metadata": {},
   "outputs": [
    {
     "name": "stdout",
     "output_type": "stream",
     "text": [
      "0\n",
      "1\n",
      "2\n",
      "3\n",
      "4\n"
     ]
    }
   ],
   "source": [
    "i = 0\n",
    "while i < 5:\n",
    "    print(i)\n",
    "    i += 1"
   ]
  },
  {
   "cell_type": "code",
   "execution_count": 15,
   "metadata": {},
   "outputs": [
    {
     "name": "stdout",
     "output_type": "stream",
     "text": [
      "I want to be a spatial data analyst!\n",
      "I want to be a spatial data analyst!\n",
      "I want to be a spatial data analyst!\n",
      "I want to be a spatial data analyst!\n",
      "I want to be a spatial data analyst!\n"
     ]
    }
   ],
   "source": [
    "i = 0\n",
    "while i < 5:\n",
    "    print(\"I want to be a spatial data analyst!\")\n",
    "    i += 1"
   ]
  },
  {
   "cell_type": "code",
   "execution_count": 25,
   "metadata": {},
   "outputs": [
    {
     "name": "stdout",
     "output_type": "stream",
     "text": [
      "4\n",
      "3\n",
      "2\n",
      "1\n",
      "0\n",
      "-1\n"
     ]
    }
   ],
   "source": [
    "i = 5\n",
    "while i >= 0:\n",
    "    i -= 1\n",
    "    print(i)"
   ]
  },
  {
   "cell_type": "code",
   "execution_count": 27,
   "metadata": {},
   "outputs": [
    {
     "name": "stdout",
     "output_type": "stream",
     "text": [
      "3 x 1 = 3\n",
      "3 x 2 = 6\n",
      "3 x 3 = 9\n",
      "3 x 4 = 12\n",
      "3 x 5 = 15\n",
      "3 x 6 = 18\n",
      "3 x 7 = 21\n",
      "3 x 8 = 24\n",
      "3 x 9 = 27\n",
      "3 x 10 = 30\n"
     ]
    }
   ],
   "source": [
    "n = input (\"Please enter a positive integer: \")\n",
    "n = int(n)\n",
    "m=1\n",
    "while m <= 10:\n",
    "    print(n, \"x\", m, \"=\", n*m)\n",
    "    m += 1\n",
    "    "
   ]
  },
  {
   "cell_type": "code",
   "execution_count": 33,
   "metadata": {},
   "outputs": [],
   "source": [
    "import turtle\n",
    "turtle.color(\"green\")\n",
    "turtle.speed(5)\n",
    "counter = 0\n",
    "while counter < 36:\n",
    "    for i in range(4):\n",
    "        turtle.forward(100)\n",
    "        turtle.right(90)\n",
    "    turtle.right(10)\n",
    "    counter += 1\n",
    "turtle.exitonclick()"
   ]
  },
  {
   "cell_type": "code",
   "execution_count": null,
   "metadata": {},
   "outputs": [],
   "source": [
    "import turtle\n",
    "height = 5\n",
    "width = 5\n",
    "turtle.color(\"green\")\n",
    "turtle.speed(2)\n",
    "turtle.penup()\n",
    "for y in range(height):\n",
    "    for x in range(width):\n",
    "        turtle.dot()\n",
    "        turtle.forward(20)\n",
    "    turtle.backward(20 * width)\n",
    "    turtle.right(90)\n",
    "    turtle.forward(20)\n",
    "    turtle.left(90)\n",
    "turtle.exitonclick()"
   ]
  },
  {
   "cell_type": "markdown",
   "metadata": {},
   "source": [
    "Chapter 7: Function"
   ]
  },
  {
   "cell_type": "code",
   "execution_count": 1,
   "metadata": {},
   "outputs": [],
   "source": [
    "def add(a, b):\n",
    "    return a + b\n",
    "    "
   ]
  },
  {
   "cell_type": "code",
   "execution_count": 3,
   "metadata": {},
   "outputs": [
    {
     "name": "stdout",
     "output_type": "stream",
     "text": [
      "15\n"
     ]
    }
   ],
   "source": [
    "def add(a, b):\n",
    "    return a + b\n",
    "a=10\n",
    "b=5\n",
    "result = add(a, b)\n",
    "print(result)"
   ]
  },
  {
   "cell_type": "code",
   "execution_count": 5,
   "metadata": {},
   "outputs": [
    {
     "name": "stdout",
     "output_type": "stream",
     "text": [
      "20\n"
     ]
    }
   ],
   "source": [
    "num1 = 10\n",
    "num2 = 10\n",
    "result = add(num1, num2)\n",
    "print(result)"
   ]
  },
  {
   "cell_type": "code",
   "execution_count": 9,
   "metadata": {},
   "outputs": [
    {
     "name": "stdout",
     "output_type": "stream",
     "text": [
      "30\n"
     ]
    }
   ],
   "source": [
    "n1 = 10\n",
    "n2 = 20\n",
    "print(add(n1, n2))"
   ]
  },
  {
   "cell_type": "code",
   "execution_count": 4,
   "metadata": {},
   "outputs": [],
   "source": [
    "import turtle\n",
    "def draw_square():\n",
    "    for i in range(4):\n",
    "        turtle.forward(100)\n",
    "        turtle.right(90)\n",
    "draw_square()\n",
    "turtle.exitonclick()"
   ]
  },
  {
   "cell_type": "code",
   "execution_count": 6,
   "metadata": {},
   "outputs": [],
   "source": [
    "import turtle\n",
    "def draw_square(side_length):\n",
    "    for i in range(4):\n",
    "        turtle.forward(side_length)\n",
    "        turtle.right(90)\n",
    "\n",
    "counter = 0\n",
    "while counter < 90:\n",
    "    draw_square(100)\n",
    "    turtle.right(4)\n",
    "    counter += 1\n",
    "turtle.exitonclick()"
   ]
  },
  {
   "cell_type": "code",
   "execution_count": 11,
   "metadata": {},
   "outputs": [
    {
     "name": "stdout",
     "output_type": "stream",
     "text": [
      "Inside my function 20\n",
      "inside my function 10\n",
      "20\n"
     ]
    }
   ],
   "source": [
    "def myfnc(x):\n",
    "    print(\"Inside my function\", x)\n",
    "    x = 10\n",
    "    print(\"inside my function\", x)\n",
    "x = 20\n",
    "myfnc(x)\n",
    "print(x)"
   ]
  },
  {
   "cell_type": "code",
   "execution_count": 12,
   "metadata": {},
   "outputs": [
    {
     "name": "stdout",
     "output_type": "stream",
     "text": [
      "y= 20\n",
      "x= 20\n"
     ]
    }
   ],
   "source": [
    "def myfnc(y):\n",
    "    print(\"y=\", y)\n",
    "    print(\"x=\", x)\n",
    "x = 20\n",
    "myfnc(x)"
   ]
  },
  {
   "cell_type": "code",
   "execution_count": 13,
   "metadata": {},
   "outputs": [
    {
     "name": "stdout",
     "output_type": "stream",
     "text": [
      "y= 20\n",
      "x= 20\n"
     ]
    },
    {
     "ename": "NameError",
     "evalue": "name 'y' is not defined",
     "output_type": "error",
     "traceback": [
      "\u001b[1;31m---------------------------------------------------------------------------\u001b[0m",
      "\u001b[1;31mNameError\u001b[0m                                 Traceback (most recent call last)",
      "Cell \u001b[1;32mIn[13], line 6\u001b[0m\n\u001b[0;32m      4\u001b[0m x \u001b[38;5;241m=\u001b[39m \u001b[38;5;241m20\u001b[39m\n\u001b[0;32m      5\u001b[0m myfnc(x)\n\u001b[1;32m----> 6\u001b[0m \u001b[38;5;28mprint\u001b[39m(\u001b[38;5;124m\"\u001b[39m\u001b[38;5;124my=\u001b[39m\u001b[38;5;124m\"\u001b[39m, \u001b[43my\u001b[49m)\n",
      "\u001b[1;31mNameError\u001b[0m: name 'y' is not defined"
     ]
    }
   ],
   "source": [
    "def myfnc(y):\n",
    "    print(\"y=\", y)\n",
    "    print(\"x=\", x)\n",
    "x = 20\n",
    "myfnc(x)\n",
    "print(\"y=\", y)"
   ]
  },
  {
   "cell_type": "code",
   "execution_count": 14,
   "metadata": {},
   "outputs": [
    {
     "name": "stdout",
     "output_type": "stream",
     "text": [
      "y= 20\n",
      "y= 10\n"
     ]
    }
   ],
   "source": [
    "def myfnc(y=10):\n",
    "    print(\"y=\", y)\n",
    "x = 20\n",
    "myfnc(x)\n",
    "myfnc()"
   ]
  },
  {
   "cell_type": "code",
   "execution_count": 17,
   "metadata": {},
   "outputs": [
    {
     "name": "stdout",
     "output_type": "stream",
     "text": [
      "x= 5 y= 6 z= 7\n",
      "x= 5 y= 6 z= 0\n",
      "x= 5 y= 10 z= 0\n"
     ]
    }
   ],
   "source": [
    "def myfnc(x,y=10,z=0):\n",
    "    print(\"x=\", x, \"y=\", y, \"z=\", z)\n",
    "x = 5\n",
    "y = 6\n",
    "z = 7\n",
    "myfnc(x, y, z)\n",
    "myfnc(x, y)\n",
    "myfnc(x)"
   ]
  },
  {
   "cell_type": "code",
   "execution_count": 18,
   "metadata": {},
   "outputs": [
    {
     "name": "stdout",
     "output_type": "stream",
     "text": [
      "51\n"
     ]
    }
   ],
   "source": [
    "def add_numbers(numbers):\n",
    "    result = 0\n",
    "    for num in numbers:\n",
    "        result += num\n",
    "    return result\n",
    "result = add_numbers([1, 2, 30, 4, 5, 9])\n",
    "print(result)"
   ]
  },
  {
   "cell_type": "markdown",
   "metadata": {},
   "source": [
    "Chapter 8: Working with String"
   ]
  },
  {
   "cell_type": "code",
   "execution_count": 19,
   "metadata": {},
   "outputs": [
    {
     "data": {
      "text/plain": [
       "5"
      ]
     },
     "execution_count": 19,
     "metadata": {},
     "output_type": "execute_result"
    }
   ],
   "source": [
    "s=\"Hello\"\n",
    "len(s)"
   ]
  },
  {
   "cell_type": "code",
   "execution_count": 26,
   "metadata": {},
   "outputs": [
    {
     "name": "stdout",
     "output_type": "stream",
     "text": [
      "B\n",
      "a\n",
      "n\n",
      "g\n",
      "l\n",
      "a\n",
      "d\n",
      "e\n",
      "s\n",
      "h\n"
     ]
    }
   ],
   "source": [
    "country = \"Bangladesh\"\n",
    "print(country[0])\n",
    "print(country[1])\n",
    "print(country[2])\n",
    "print(country[3])\n",
    "print(country[4])\n",
    "print(country[5])\n",
    "print(country[6])\n",
    "print(country[7])\n",
    "print(country[8])\n",
    "print(country[9])"
   ]
  },
  {
   "cell_type": "code",
   "execution_count": 28,
   "metadata": {},
   "outputs": [
    {
     "name": "stdout",
     "output_type": "stream",
     "text": [
      "B\n",
      "a\n",
      "n\n",
      "g\n",
      "l\n",
      "a\n",
      "d\n",
      "e\n",
      "s\n",
      "h\n"
     ]
    }
   ],
   "source": [
    "country = \"Bangladesh\"\n",
    "for c in country:\n",
    "    print(c)"
   ]
  },
  {
   "cell_type": "code",
   "execution_count": 32,
   "metadata": {},
   "outputs": [
    {
     "name": "stdout",
     "output_type": "stream",
     "text": [
      "Bangladesh\n"
     ]
    }
   ],
   "source": [
    "country = \"Bangla\" + \"desh\"\n",
    "print (country)"
   ]
  },
  {
   "cell_type": "code",
   "execution_count": 33,
   "metadata": {},
   "outputs": [
    {
     "name": "stdout",
     "output_type": "stream",
     "text": [
      "505\n"
     ]
    }
   ],
   "source": [
    "x = \"50\"+\"5\"\n",
    "print(x)"
   ]
  },
  {
   "cell_type": "code",
   "execution_count": null,
   "metadata": {},
   "outputs": [
    {
     "name": "stdout",
     "output_type": "stream",
     "text": [
      "0\n",
      "6\n",
      "4\n",
      "-1\n"
     ]
    }
   ],
   "source": [
    "country = \"Bangladesh\"\n",
    "print(country.find(\"Bang\")) #index of the first character of the substring\n",
    "print(country.find(\"desh\")) #index of the first character of the substring\n",
    "print(country.find(\"lad\")) #index of the first character of the substring\n",
    "print(country.find(\"bla\")) #substring not found"
   ]
  },
  {
   "cell_type": "code",
   "execution_count": 41,
   "metadata": {},
   "outputs": [
    {
     "name": "stdout",
     "output_type": "stream",
     "text": [
      "South Korea\n",
      "North Korea\n"
     ]
    }
   ],
   "source": [
    "Country = \"North Korea\"\n",
    "new_country = Country.replace(\"North\", \"South\")\n",
    "print(new_country)\n",
    "print(Country)"
   ]
  },
  {
   "cell_type": "code",
   "execution_count": 45,
   "metadata": {},
   "outputs": [
    {
     "name": "stdout",
     "output_type": "stream",
     "text": [
      " I am a spatial data analyst.\n",
      "I am a spatial data analyst.  \n",
      "I am a spatial data analyst.\n"
     ]
    }
   ],
   "source": [
    "text = \" I am a spatial data analyst.  \"\n",
    "print(text.rstrip())\n",
    "print(text.lstrip())\n",
    "print(text.strip())"
   ]
  },
  {
   "cell_type": "code",
   "execution_count": 63,
   "metadata": {},
   "outputs": [
    {
     "name": "stdout",
     "output_type": "stream",
     "text": [
      "BANGLADESH IS A BEAUTIFUL COUNTRY\n",
      "bangladesh is a beautiful country\n",
      "Bangladesh Is A Beautiful Country\n",
      "Bangladesh is a beautiful country\n"
     ]
    }
   ],
   "source": [
    "c = \"Bangladesh is a beautiful country\"\n",
    "c_up=c.upper()  #converts all characters to uppercase\n",
    "print(c_up)\n",
    "c_low=c.lower() #converts all characters to lowercase\n",
    "print(c_low)\n",
    "c_title=c.title() #converts the first character of each word to uppercase\n",
    "print(c_title)\n",
    "c_cap=c.capitalize() #converts the first character to uppercase\n",
    "print(c_cap)"
   ]
  },
  {
   "cell_type": "code",
   "execution_count": null,
   "metadata": {},
   "outputs": [
    {
     "name": "stdout",
     "output_type": "stream",
     "text": [
      "['I', 'am', 'a', 'spatial', 'data', 'analyst']\n",
      "I\n",
      "am\n",
      "a\n",
      "spatial\n",
      "data\n",
      "analyst\n"
     ]
    }
   ],
   "source": [
    "str = \"I am a spatial data analyst\"\n",
    "words = str.split() #split the string into words\n",
    "print(words)\n",
    "for i in words:\n",
    "    print(i)\n",
    "\n"
   ]
  },
  {
   "cell_type": "code",
   "execution_count": null,
   "metadata": {},
   "outputs": [
    {
     "data": {
      "text/plain": [
       "2"
      ]
     },
     "execution_count": 52,
     "metadata": {},
     "output_type": "execute_result"
    }
   ],
   "source": [
    "str=\"I am a spatial data analyst\"\n",
    "str.count(\"s\") #count the number of occurrences of the substring"
   ]
  },
  {
   "cell_type": "code",
   "execution_count": 53,
   "metadata": {},
   "outputs": [
    {
     "data": {
      "text/plain": [
       "False"
      ]
     },
     "execution_count": 53,
     "metadata": {},
     "output_type": "execute_result"
    }
   ],
   "source": [
    "country = \"Bangladesh\"\n",
    "country.startswith(\"Bang\") #check if the string starts with the substring\n",
    "country.endswith(\"desh\") #check if the string ends with the substring\n",
    "country.startswith(\"bang\") #check if the string starts with the substring\n",
    "country.endswith(\"Desh\") #check if the string ends with the substring"
   ]
  },
  {
   "cell_type": "code",
   "execution_count": null,
   "metadata": {},
   "outputs": [
    {
     "name": "stdout",
     "output_type": "stream",
     "text": [
      "Dear Sir\n"
     ]
    }
   ],
   "source": [
    "name = \"Mr. Sohel Rana\"\n",
    "if name.startswith(\"Mr.\"): #check if the string starts with the substring\n",
    "    print(\"Dear Sir\")\n",
    "else:\n",
    "    print(\"Dear Madam\")\n"
   ]
  },
  {
   "cell_type": "code",
   "execution_count": 62,
   "metadata": {},
   "outputs": [
    {
     "name": "stdout",
     "output_type": "stream",
     "text": [
      "Hello Sohel Rana, how are you?\n"
     ]
    }
   ],
   "source": [
    "name = input(\"What is your name?\").lower()\n",
    "\n",
    "if name.startswith(\"mr.\"):\n",
    "    print(\"Hello sir, how are you?\")\n",
    "elif name.startswith(\"mrs.\") or name.startswith(\"miss.\"):\n",
    "    print(\"Hello madam, how are you?\")\n",
    "else:\n",
    "    name = name.title()\n",
    "    greeting = \"Hello \" + name + \", how are you?\"\n",
    "    print(greeting)\n",
    "\n"
   ]
  },
  {
   "cell_type": "code",
   "execution_count": 64,
   "metadata": {},
   "outputs": [
    {
     "name": "stdout",
     "output_type": "stream",
     "text": [
      "a 2\n",
      "b 1\n",
      "c 1\n",
      "d 1\n",
      "e 2\n",
      "f 1\n",
      "g 1\n",
      "h 1\n",
      "i 1\n",
      "j 1\n",
      "k 1\n",
      "l 1\n",
      "m 1\n",
      "n 1\n",
      "o 4\n",
      "p 1\n",
      "q 1\n",
      "r 2\n",
      "s 1\n",
      "t 1\n",
      "u 2\n",
      "v 1\n",
      "w 1\n",
      "x 1\n",
      "y 1\n",
      "z 1\n"
     ]
    }
   ],
   "source": [
    "str = \"a quick brown fox jumps over the lazy dog\"\n",
    "for c in \"abcdefghijklmnopqrstuvwxyz\":\n",
    "    print(c, str.count(c))"
   ]
  },
  {
   "cell_type": "markdown",
   "metadata": {},
   "source": [
    "Chapter 9: Data Structure of Python"
   ]
  },
  {
   "cell_type": "code",
   "execution_count": 10,
   "metadata": {},
   "outputs": [
    {
     "name": "stdout",
     "output_type": "stream",
     "text": [
      "['Afghanistan', 'Bangladesh', 'Bhutan', 'India', 'Maldives', 'Nepal', 'Pakistan', 'Sri Lanka', 'X']\n"
     ]
    }
   ],
   "source": [
    "saarc = [\"Afghanistan\", \"Bangladesh\", \"Bhutan\", \"India\", \"Maldives\",\"Nepal\", \"Pakistan\", \"Sri Lanka\"]\n",
    "saarc.append(\"X\")\n",
    "print(saarc)"
   ]
  },
  {
   "cell_type": "code",
   "execution_count": 12,
   "metadata": {},
   "outputs": [
    {
     "name": "stdout",
     "output_type": "stream",
     "text": [
      "['Afghanistan', 'Bangladesh', 'Bhutan', 'India', 'Maldives', 'Nepal', 'Pakistan', 'Sri Lanka']\n"
     ]
    }
   ],
   "source": [
    "saarc = [\"Afghanistan\", \"Bhutan\", \"India\", \"Maldives\", \"Bangladesh\", \"Nepal\", \"Pakistan\", \"Sri Lanka\"]\n",
    "saarc.sort()\n",
    "print(saarc)"
   ]
  },
  {
   "cell_type": "code",
   "execution_count": 20,
   "metadata": {},
   "outputs": [
    {
     "name": "stdout",
     "output_type": "stream",
     "text": [
      "['Sri Lanka', 'Pakistan', 'Nepal', 'Maldives', 'India', 'Bhutan', 'Bangladesh', 'Afghanistan']\n"
     ]
    }
   ],
   "source": [
    "saarc = [\"Afghanistan\", \"Bangladesh\", \"Bhutan\", \"India\", \"Maldives\",\"Nepal\", \"Pakistan\", \"Sri Lanka\"]\n",
    "#saarc.sort(reverse=True)\n",
    "saarc.reverse()\n",
    "print(saarc)"
   ]
  },
  {
   "cell_type": "code",
   "execution_count": 21,
   "metadata": {},
   "outputs": [
    {
     "name": "stdout",
     "output_type": "stream",
     "text": [
      "['Afghanistan', 'Bangladesh', 'Bhutan', 'India', 'X', 'Maldives', 'Nepal', 'Pakistan', 'Sri Lanka']\n"
     ]
    }
   ],
   "source": [
    "saarc = [\"Afghanistan\", \"Bangladesh\", \"Bhutan\", \"India\", \"Maldives\",\"Nepal\", \"Pakistan\", \"Sri Lanka\"]\n",
    "saarc.insert(4, \"X\")\n",
    "print(saarc)"
   ]
  },
  {
   "cell_type": "code",
   "execution_count": 23,
   "metadata": {},
   "outputs": [
    {
     "name": "stdout",
     "output_type": "stream",
     "text": [
      "['Afghanistan', 'Bangladesh', 'Bhutan', 'Maldives', 'Nepal', 'Pakistan', 'Sri Lanka']\n"
     ]
    }
   ],
   "source": [
    "saarc = [\"Afghanistan\", \"Bangladesh\", \"Bhutan\", \"India\", \"Maldives\",\"Nepal\", \"Pakistan\", \"Sri Lanka\"]\n",
    "saarc.remove(\"India\")\n",
    "print(saarc)"
   ]
  },
  {
   "cell_type": "code",
   "execution_count": 24,
   "metadata": {},
   "outputs": [
    {
     "name": "stdout",
     "output_type": "stream",
     "text": [
      "['Afghanistan', 'Bangladesh', 'Bhutan', 'Maldives', 'Nepal', 'Pakistan', 'Sri Lanka']\n"
     ]
    }
   ],
   "source": [
    "saarc = [\"Afghanistan\", \"Bangladesh\", \"Bhutan\", \"India\", \"Maldives\",\"Nepal\", \"Pakistan\", \"Sri Lanka\"]\n",
    "saarc.pop(3)\n",
    "print(saarc)"
   ]
  },
  {
   "cell_type": "code",
   "execution_count": 27,
   "metadata": {},
   "outputs": [
    {
     "name": "stdout",
     "output_type": "stream",
     "text": [
      "['Afghanistan', 'Bangladesh', 'Bhutan', 'Maldives', 'Nepal', 'Pakistan', 'Sri Lanka']\n"
     ]
    }
   ],
   "source": [
    "saarc = [\"Afghanistan\", \"Bangladesh\", \"Bhutan\", \"India\", \"Maldives\",\"Nepal\", \"Pakistan\", \"Sri Lanka\"]\n",
    "country = \"India\"\n",
    "if country in saarc:\n",
    "    saarc.remove(country)\n",
    "print(saarc)"
   ]
  },
  {
   "cell_type": "code",
   "execution_count": 29,
   "metadata": {},
   "outputs": [
    {
     "name": "stdout",
     "output_type": "stream",
     "text": [
      "['Afghanistan', 'Bangladesh', 'Bhutan', 'Maldives', 'Nepal', 'Pakistan', 'Sri Lanka']\n"
     ]
    }
   ],
   "source": [
    "saarc = [\"Afghanistan\", \"Bangladesh\", \"Bhutan\", \"India\", \"Maldives\",\"Nepal\", \"Pakistan\", \"Sri Lanka\"]\n",
    "country = \"India\"\n",
    "if country in saarc:\n",
    "    saarc.remove(country)\n",
    "else:\n",
    "    print(country, \"is not a member of SAARC\")\n",
    "print(saarc)"
   ]
  },
  {
   "cell_type": "code",
   "execution_count": 33,
   "metadata": {},
   "outputs": [
    {
     "name": "stdout",
     "output_type": "stream",
     "text": [
      "[1, 2, 3, 4, 5, 6, 7, 8, 9, 10]\n"
     ]
    }
   ],
   "source": [
    "list1 = [1, 2, 3, 4, 5]\n",
    "list2 = [6, 7, 8, 9, 10]\n",
    "list1.extend(list2)\n",
    "print(list1)"
   ]
  },
  {
   "cell_type": "code",
   "execution_count": 35,
   "metadata": {},
   "outputs": [
    {
     "name": "stdout",
     "output_type": "stream",
     "text": [
      "2\n"
     ]
    }
   ],
   "source": [
    "list1 = [1, 2, 3, 4, 5, 6, 7, 6, 4, 4, 5, 6, 7, 8, 9, 10]\n",
    "list1.count(4)\n",
    "print(list1.count(5))"
   ]
  },
  {
   "cell_type": "code",
   "execution_count": 48,
   "metadata": {},
   "outputs": [
    {
     "name": "stdout",
     "output_type": "stream",
     "text": [
      "15\n",
      "16\n",
      "[2, 3, 4, 5, 6, 7, 6, 4, 4, 5, 6, 7, 8, 9, 10]\n"
     ]
    }
   ],
   "source": [
    "list1 = [1, 2, 3, 4, 5, 6, 7, 6, 4, 4, 5, 6, 7, 8, 9, 10]\n",
    "print(list1.index(10))\n",
    "print(len(list1))\n",
    "del list1[0]\n",
    "print(list1)"
   ]
  },
  {
   "cell_type": "code",
   "execution_count": 45,
   "metadata": {},
   "outputs": [
    {
     "name": "stdout",
     "output_type": "stream",
     "text": [
      "[]\n"
     ]
    }
   ],
   "source": [
    "list1 = [1, 2, 3, 4, 5, 6, 7, 8, 9, 10]\n",
    "list1.clear()\n",
    "print(list1)"
   ]
  },
  {
   "cell_type": "code",
   "execution_count": 44,
   "metadata": {},
   "outputs": [
    {
     "name": "stdout",
     "output_type": "stream",
     "text": [
      "[1, 3, 5, 7, 9]\n"
     ]
    }
   ],
   "source": [
    "list1 = []\n",
    "for i in range(1, 11, 2):\n",
    "    list1.append(i)\n",
    "print(list1)"
   ]
  },
  {
   "cell_type": "code",
   "execution_count": 43,
   "metadata": {},
   "outputs": [
    {
     "name": "stdout",
     "output_type": "stream",
     "text": [
      "[1, 2, 3, 4, 5, 6, 7, 8, 9, 10]\n"
     ]
    }
   ],
   "source": [
    "list1 = [1, 2, 3, 4, 5]\n",
    "list2 = [6, 7, 8, 9, 10]\n",
    "listed = list1 + list2\n",
    "print(listed)"
   ]
  },
  {
   "cell_type": "code",
   "execution_count": 59,
   "metadata": {},
   "outputs": [
    {
     "name": "stdout",
     "output_type": "stream",
     "text": [
      "[1, 2, 3, 4, 5, 1, 2, 3, 4, 5]\n"
     ]
    }
   ],
   "source": [
    "list1 = [1, 2, 3, 4, 5]\n",
    "list2 = list1 * 2\n",
    "print(list2)"
   ]
  },
  {
   "cell_type": "markdown",
   "metadata": {},
   "source": [
    "List Comprehensions"
   ]
  },
  {
   "cell_type": "code",
   "execution_count": 47,
   "metadata": {},
   "outputs": [
    {
     "name": "stdout",
     "output_type": "stream",
     "text": [
      "[2, 4, 6, 8, 10]\n"
     ]
    },
    {
     "data": {
      "text/plain": [
       "list"
      ]
     },
     "execution_count": 47,
     "metadata": {},
     "output_type": "execute_result"
    }
   ],
   "source": [
    "new_list = []\n",
    "list1 = [1, 2, 3, 4, 5]\n",
    "for i in list1:\n",
    "    new_list.append(i * 2)\n",
    "print(new_list)\n",
    "type(list1)"
   ]
  },
  {
   "cell_type": "code",
   "execution_count": 4,
   "metadata": {},
   "outputs": [
    {
     "name": "stdout",
     "output_type": "stream",
     "text": [
      "[2, 4, 6, 8, 10]\n"
     ]
    }
   ],
   "source": [
    "new_list = [i * 2 for i in [1, 2, 3, 4, 5]]\n",
    "print(new_list)"
   ]
  },
  {
   "cell_type": "code",
   "execution_count": 49,
   "metadata": {},
   "outputs": [
    {
     "name": "stdout",
     "output_type": "stream",
     "text": [
      "[2, 8, 4, 6]\n"
     ]
    },
    {
     "data": {
      "text/plain": [
       "list"
      ]
     },
     "execution_count": 49,
     "metadata": {},
     "output_type": "execute_result"
    }
   ],
   "source": [
    "list1 = [1, 2, 3, 7, 8, 9, 4, 5, 6]\n",
    "even_numbers = [i for i in list1 if i % 2 == 0]\n",
    "print(even_numbers)\n",
    "type (list1)"
   ]
  },
  {
   "cell_type": "markdown",
   "metadata": {},
   "source": [
    "Tuple"
   ]
  },
  {
   "cell_type": "code",
   "execution_count": 17,
   "metadata": {},
   "outputs": [
    {
     "data": {
      "text/plain": [
       "tuple"
      ]
     },
     "execution_count": 17,
     "metadata": {},
     "output_type": "execute_result"
    }
   ],
   "source": [
    "x= (1, 2, 3, 4, 5)\n",
    "type(x)\n",
    "y= 1, 2, 3, 4, 5\n",
    "type(y)"
   ]
  },
  {
   "cell_type": "code",
   "execution_count": 25,
   "metadata": {},
   "outputs": [
    {
     "name": "stdout",
     "output_type": "stream",
     "text": [
      "1\n",
      "2\n"
     ]
    }
   ],
   "source": [
    "x= (1, 2, 3, 4, 5)\n",
    "print(x[0])\n",
    "print(x[1])"
   ]
  },
  {
   "cell_type": "code",
   "execution_count": 27,
   "metadata": {},
   "outputs": [
    {
     "name": "stdout",
     "output_type": "stream",
     "text": [
      "2\n"
     ]
    }
   ],
   "source": [
    "numbers = (2, 3, 4, 5)\n",
    "n1, n2, n3, n4 = numbers\n",
    "print(n1)"
   ]
  },
  {
   "cell_type": "code",
   "execution_count": 32,
   "metadata": {},
   "outputs": [
    {
     "name": "stdout",
     "output_type": "stream",
     "text": [
      "1 <class 'int'>\n",
      "4 <class 'int'>\n",
      "3 <class 'int'>\n",
      "6 <class 'int'>\n",
      "5.5 <class 'float'>\n",
      "X <class 'str'>\n",
      "[1, 2, 3] <class 'list'>\n",
      "('Bangladesh', 'India') <class 'tuple'>\n"
     ]
    }
   ],
   "source": [
    "items = (1, 4, 3, 6, 5.5, \"X\", [1, 2, 3], (\"Bangladesh\", \"India\"))\n",
    "for item in items:\n",
    "    print(item, type(item))"
   ]
  },
  {
   "cell_type": "code",
   "execution_count": null,
   "metadata": {},
   "outputs": [
    {
     "ename": "TypeError",
     "evalue": "'list' object is not callable",
     "output_type": "error",
     "traceback": [
      "\u001b[1;31m---------------------------------------------------------------------------\u001b[0m",
      "\u001b[1;31mTypeError\u001b[0m                                 Traceback (most recent call last)",
      "Cell \u001b[1;32mIn[48], line 4\u001b[0m\n\u001b[0;32m      2\u001b[0m t \u001b[38;5;241m=\u001b[39m (\u001b[38;5;241m1\u001b[39m, \u001b[38;5;241m2\u001b[39m, \u001b[38;5;241m3\u001b[39m, \u001b[38;5;241m4\u001b[39m)\n\u001b[0;32m      3\u001b[0m \u001b[38;5;66;03m# Convert tuple to list\u001b[39;00m\n\u001b[1;32m----> 4\u001b[0m a \u001b[38;5;241m=\u001b[39m \u001b[38;5;28;43mlist\u001b[39;49m\u001b[43m(\u001b[49m\u001b[43mt\u001b[49m\u001b[43m)\u001b[49m\n\u001b[0;32m      5\u001b[0m \u001b[38;5;28mprint\u001b[39m(a)\n",
      "\u001b[1;31mTypeError\u001b[0m: 'list' object is not callable"
     ]
    }
   ],
   "source": [
    "# Example tuple\n",
    "t = (1, 2, 3, 4)\n",
    "# Convert tuple to list\n",
    "a = list(t)\n",
    "print(a)"
   ]
  },
  {
   "cell_type": "markdown",
   "metadata": {},
   "source": [
    "Set"
   ]
  },
  {
   "cell_type": "code",
   "execution_count": 70,
   "metadata": {},
   "outputs": [
    {
     "name": "stdout",
     "output_type": "stream",
     "text": [
      "union: {1, 2, 3, 4, 5, 6, 7, 8}\n",
      "union: {1, 2, 3, 4, 5, 6, 7, 8}\n",
      "intersection: {4, 5}\n",
      "intersection: {4, 5}\n",
      "difference: {1, 2, 3}\n",
      "difference: {1, 2, 3}\n",
      "symmetric_difference: {1, 2, 3, 6, 7, 8}\n",
      "symmetric_difference: {1, 2, 3, 6, 7, 8}\n",
      "subset: False\n",
      "superset: False\n",
      "disjoint: False\n",
      "{1, 2, 3, 4, 5, 9}\n",
      "{2, 3, 4, 5, 9}\n",
      "{3, 4, 5, 9}\n",
      "{4, 5, 9}\n"
     ]
    }
   ],
   "source": [
    "li = {1, 2, 3, 4, 5}\n",
    "A = set(li)\n",
    "B = {4, 5, 6, 7, 8}\n",
    "print(\"union:\",A.union(B))\n",
    "C=A|B\n",
    "print(\"union:\",C)\n",
    "print(\"intersection:\",A.intersection(B)) \n",
    "C=A&B\n",
    "print(\"intersection:\",C)\n",
    "print(\"difference:\",A.difference(B))\n",
    "C=A-B\n",
    "print(\"difference:\",C)\n",
    "print(\"symmetric_difference:\",A.symmetric_difference(B)) \n",
    "C=A^B\n",
    "print(\"symmetric_difference:\",C)\n",
    "print(\"subset:\",A.issubset(B))\n",
    "print(\"superset:\",A.issuperset(B))\n",
    "print(\"disjoint:\",A.isdisjoint(B))\n",
    "A.add(9)\n",
    "print(A)\n",
    "A.remove(1)\n",
    "print(A)\n",
    "A.discard(2)\n",
    "print(A)\n",
    "A.pop()\n",
    "print(A)"
   ]
  },
  {
   "cell_type": "markdown",
   "metadata": {},
   "source": [
    "Dictionary"
   ]
  },
  {
   "cell_type": "code",
   "execution_count": 72,
   "metadata": {},
   "outputs": [
    {
     "name": "stdout",
     "output_type": "stream",
     "text": [
      "Marks: 90\n"
     ]
    }
   ],
   "source": [
    "marks = [80, 90, 85, 70, 95]\n",
    "roll = input (\"Enter the roll number: \")\n",
    "print(\"Marks:\", marks[int(roll)-1])"
   ]
  },
  {
   "cell_type": "code",
   "execution_count": 74,
   "metadata": {},
   "outputs": [
    {
     "data": {
      "text/plain": [
       "90"
      ]
     },
     "execution_count": 74,
     "metadata": {},
     "output_type": "execute_result"
    }
   ],
   "source": [
    "marks = {1:80, 3:90, 5:85, 2:70, 4:95}\n",
    "marks[3] \n",
    "\n"
   ]
  },
  {
   "cell_type": "code",
   "execution_count": 75,
   "metadata": {},
   "outputs": [
    {
     "name": "stdout",
     "output_type": "stream",
     "text": [
      "300\n"
     ]
    }
   ],
   "source": [
    "marks = {\"HDFC\": 100, \"ICICI\": 200, \"SBI\": 300, \"Axis\": 400}\n",
    "print(marks[\"SBI\"])"
   ]
  }
 ],
 "metadata": {
  "kernelspec": {
   "display_name": "Python 3",
   "language": "python",
   "name": "python3"
  },
  "language_info": {
   "codemirror_mode": {
    "name": "ipython",
    "version": 3
   },
   "file_extension": ".py",
   "mimetype": "text/x-python",
   "name": "python",
   "nbconvert_exporter": "python",
   "pygments_lexer": "ipython3",
   "version": "3.13.1"
  }
 },
 "nbformat": 4,
 "nbformat_minor": 2
}
